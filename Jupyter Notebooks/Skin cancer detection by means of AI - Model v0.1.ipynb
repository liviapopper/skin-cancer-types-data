{
 "cells": [
  {
   "cell_type": "markdown",
   "metadata": {},
   "source": [
    "<h2><center>Skin cancer detection by means of AI</center></h2>\n",
    "<h3><center>Model v0.1</center></h3>\n",
    "\n",
    "<h4><center>Group 3: Livia Popper, Kyriakos Koukiadakis, Aizhan Shagadatova</center></h4>"
   ]
  },
  {
   "cell_type": "markdown",
   "metadata": {},
   "source": [
    "## Import libraries"
   ]
  },
  {
   "cell_type": "code",
   "execution_count": 1,
   "metadata": {
    "id": "wPpexzsxOhJ7"
   },
   "outputs": [],
   "source": [
    "import numpy as np\n",
    "import pandas as pd\n",
    "import shutil\n",
    "import time\n",
    "import cv2 as cv2\n",
    "from tqdm import tqdm\n",
    "from sklearn.model_selection import train_test_split\n",
    "import matplotlib.pyplot as plt\n",
    "from matplotlib.pyplot import imshow\n",
    "import os\n",
    "import seaborn as sns\n",
    "sns.set_style('darkgrid')\n",
    "from PIL import Image\n",
    "from sklearn.metrics import confusion_matrix, classification_report\n",
    "from IPython.core.display import display, HTML\n",
    "import requests\n",
    "\n",
    "import keras\n",
    "from keras.models import Sequential\n",
    "from keras.layers import Dense, Dropout, Flatten\n",
    "from keras.layers import Conv2D, MaxPooling2D\n",
    "from keras.preprocessing import image\n",
    "from io import BytesIO\n",
    "\n",
    "from sklearn.metrics import confusion_matrix\n",
    "import seaborn as sns\n",
    "\n",
    "import matplotlib.pyplot as plt\n",
    "from tqdm import tqdm\n",
    "%matplotlib inline"
   ]
  },
  {
   "cell_type": "code",
   "execution_count": 2,
   "metadata": {
    "id": "QeNGgYoIhPqS"
   },
   "outputs": [],
   "source": [
    "from PIL import Image\n",
    "import PIL.ImageOps\n",
    "import requests\n",
    "import io"
   ]
  },
  {
   "cell_type": "code",
   "execution_count": 3,
   "metadata": {
    "id": "PUd7iA3PBaiF"
   },
   "outputs": [],
   "source": [
    "images_url = \"https://raw.githubusercontent.com/liviapopper/skin-cancer-types-data/main/images/\""
   ]
  },
  {
   "cell_type": "code",
   "execution_count": 4,
   "metadata": {
    "colab": {
     "base_uri": "https://localhost:8080/",
     "height": 359
    },
    "executionInfo": {
     "elapsed": 17,
     "status": "ok",
     "timestamp": 1649578172677,
     "user": {
      "displayName": "Livia Popper",
      "userId": "01657827037894532095"
     },
     "user_tz": -120
    },
    "id": "1oAfkP_FOu09",
    "outputId": "34f5d269-ce84-4c82-d521-b323d9a4bed8"
   },
   "outputs": [
    {
     "data": {
      "text/html": [
       "<div>\n",
       "<style scoped>\n",
       "    .dataframe tbody tr th:only-of-type {\n",
       "        vertical-align: middle;\n",
       "    }\n",
       "\n",
       "    .dataframe tbody tr th {\n",
       "        vertical-align: top;\n",
       "    }\n",
       "\n",
       "    .dataframe thead th {\n",
       "        text-align: right;\n",
       "    }\n",
       "</style>\n",
       "<table border=\"1\" class=\"dataframe\">\n",
       "  <thead>\n",
       "    <tr style=\"text-align: right;\">\n",
       "      <th></th>\n",
       "      <th>image</th>\n",
       "      <th>MEL</th>\n",
       "      <th>NV</th>\n",
       "      <th>BCC</th>\n",
       "      <th>AKIEC</th>\n",
       "      <th>BKL</th>\n",
       "      <th>DF</th>\n",
       "      <th>VASC</th>\n",
       "    </tr>\n",
       "  </thead>\n",
       "  <tbody>\n",
       "    <tr>\n",
       "      <th>0</th>\n",
       "      <td>ISIC_0024306</td>\n",
       "      <td>0.0</td>\n",
       "      <td>1.0</td>\n",
       "      <td>0.0</td>\n",
       "      <td>0.0</td>\n",
       "      <td>0.0</td>\n",
       "      <td>0.0</td>\n",
       "      <td>0.0</td>\n",
       "    </tr>\n",
       "    <tr>\n",
       "      <th>1</th>\n",
       "      <td>ISIC_0024307</td>\n",
       "      <td>0.0</td>\n",
       "      <td>1.0</td>\n",
       "      <td>0.0</td>\n",
       "      <td>0.0</td>\n",
       "      <td>0.0</td>\n",
       "      <td>0.0</td>\n",
       "      <td>0.0</td>\n",
       "    </tr>\n",
       "    <tr>\n",
       "      <th>2</th>\n",
       "      <td>ISIC_0024308</td>\n",
       "      <td>0.0</td>\n",
       "      <td>1.0</td>\n",
       "      <td>0.0</td>\n",
       "      <td>0.0</td>\n",
       "      <td>0.0</td>\n",
       "      <td>0.0</td>\n",
       "      <td>0.0</td>\n",
       "    </tr>\n",
       "    <tr>\n",
       "      <th>3</th>\n",
       "      <td>ISIC_0024309</td>\n",
       "      <td>0.0</td>\n",
       "      <td>1.0</td>\n",
       "      <td>0.0</td>\n",
       "      <td>0.0</td>\n",
       "      <td>0.0</td>\n",
       "      <td>0.0</td>\n",
       "      <td>0.0</td>\n",
       "    </tr>\n",
       "    <tr>\n",
       "      <th>4</th>\n",
       "      <td>ISIC_0024310</td>\n",
       "      <td>1.0</td>\n",
       "      <td>0.0</td>\n",
       "      <td>0.0</td>\n",
       "      <td>0.0</td>\n",
       "      <td>0.0</td>\n",
       "      <td>0.0</td>\n",
       "      <td>0.0</td>\n",
       "    </tr>\n",
       "    <tr>\n",
       "      <th>5</th>\n",
       "      <td>ISIC_0024311</td>\n",
       "      <td>0.0</td>\n",
       "      <td>1.0</td>\n",
       "      <td>0.0</td>\n",
       "      <td>0.0</td>\n",
       "      <td>0.0</td>\n",
       "      <td>0.0</td>\n",
       "      <td>0.0</td>\n",
       "    </tr>\n",
       "    <tr>\n",
       "      <th>6</th>\n",
       "      <td>ISIC_0024312</td>\n",
       "      <td>0.0</td>\n",
       "      <td>0.0</td>\n",
       "      <td>0.0</td>\n",
       "      <td>0.0</td>\n",
       "      <td>1.0</td>\n",
       "      <td>0.0</td>\n",
       "      <td>0.0</td>\n",
       "    </tr>\n",
       "    <tr>\n",
       "      <th>7</th>\n",
       "      <td>ISIC_0024313</td>\n",
       "      <td>1.0</td>\n",
       "      <td>0.0</td>\n",
       "      <td>0.0</td>\n",
       "      <td>0.0</td>\n",
       "      <td>0.0</td>\n",
       "      <td>0.0</td>\n",
       "      <td>0.0</td>\n",
       "    </tr>\n",
       "    <tr>\n",
       "      <th>8</th>\n",
       "      <td>ISIC_0024314</td>\n",
       "      <td>0.0</td>\n",
       "      <td>1.0</td>\n",
       "      <td>0.0</td>\n",
       "      <td>0.0</td>\n",
       "      <td>0.0</td>\n",
       "      <td>0.0</td>\n",
       "      <td>0.0</td>\n",
       "    </tr>\n",
       "    <tr>\n",
       "      <th>9</th>\n",
       "      <td>ISIC_0024315</td>\n",
       "      <td>1.0</td>\n",
       "      <td>0.0</td>\n",
       "      <td>0.0</td>\n",
       "      <td>0.0</td>\n",
       "      <td>0.0</td>\n",
       "      <td>0.0</td>\n",
       "      <td>0.0</td>\n",
       "    </tr>\n",
       "  </tbody>\n",
       "</table>\n",
       "</div>"
      ],
      "text/plain": [
       "          image  MEL   NV  BCC  AKIEC  BKL   DF  VASC\n",
       "0  ISIC_0024306  0.0  1.0  0.0    0.0  0.0  0.0   0.0\n",
       "1  ISIC_0024307  0.0  1.0  0.0    0.0  0.0  0.0   0.0\n",
       "2  ISIC_0024308  0.0  1.0  0.0    0.0  0.0  0.0   0.0\n",
       "3  ISIC_0024309  0.0  1.0  0.0    0.0  0.0  0.0   0.0\n",
       "4  ISIC_0024310  1.0  0.0  0.0    0.0  0.0  0.0   0.0\n",
       "5  ISIC_0024311  0.0  1.0  0.0    0.0  0.0  0.0   0.0\n",
       "6  ISIC_0024312  0.0  0.0  0.0    0.0  1.0  0.0   0.0\n",
       "7  ISIC_0024313  1.0  0.0  0.0    0.0  0.0  0.0   0.0\n",
       "8  ISIC_0024314  0.0  1.0  0.0    0.0  0.0  0.0   0.0\n",
       "9  ISIC_0024315  1.0  0.0  0.0    0.0  0.0  0.0   0.0"
      ]
     },
     "execution_count": 4,
     "metadata": {},
     "output_type": "execute_result"
    }
   ],
   "source": [
    "df = pd.read_csv('https://raw.githubusercontent.com/liviapopper/skin-cancer-types-data/main/GroundTruth.csv')\n",
    "df.head(10)"
   ]
  },
  {
   "cell_type": "markdown",
   "metadata": {
    "id": "zKEkLcqeXwJz"
   },
   "source": [
    "## Algorithm implementation"
   ]
  },
  {
   "cell_type": "code",
   "execution_count": 5,
   "metadata": {
    "colab": {
     "base_uri": "https://localhost:8080/",
     "height": 419
    },
    "executionInfo": {
     "elapsed": 14,
     "status": "ok",
     "timestamp": 1649578176664,
     "user": {
      "displayName": "Livia Popper",
      "userId": "01657827037894532095"
     },
     "user_tz": -120
    },
    "id": "KBEyR0VhUSta",
    "outputId": "db950115-f373-461f-ce5f-a00daf4073bf"
   },
   "outputs": [
    {
     "data": {
      "text/html": [
       "<div>\n",
       "<style scoped>\n",
       "    .dataframe tbody tr th:only-of-type {\n",
       "        vertical-align: middle;\n",
       "    }\n",
       "\n",
       "    .dataframe tbody tr th {\n",
       "        vertical-align: top;\n",
       "    }\n",
       "\n",
       "    .dataframe thead th {\n",
       "        text-align: right;\n",
       "    }\n",
       "</style>\n",
       "<table border=\"1\" class=\"dataframe\">\n",
       "  <thead>\n",
       "    <tr style=\"text-align: right;\">\n",
       "      <th></th>\n",
       "      <th>image</th>\n",
       "      <th>MEL</th>\n",
       "      <th>NV</th>\n",
       "      <th>BCC</th>\n",
       "      <th>AKIEC</th>\n",
       "      <th>BKL</th>\n",
       "      <th>DF</th>\n",
       "      <th>VASC</th>\n",
       "    </tr>\n",
       "  </thead>\n",
       "  <tbody>\n",
       "    <tr>\n",
       "      <th>0</th>\n",
       "      <td>ISIC_0024306</td>\n",
       "      <td>0.0</td>\n",
       "      <td>1.0</td>\n",
       "      <td>0.0</td>\n",
       "      <td>0.0</td>\n",
       "      <td>0.0</td>\n",
       "      <td>0.0</td>\n",
       "      <td>0.0</td>\n",
       "    </tr>\n",
       "    <tr>\n",
       "      <th>1</th>\n",
       "      <td>ISIC_0024307</td>\n",
       "      <td>0.0</td>\n",
       "      <td>1.0</td>\n",
       "      <td>0.0</td>\n",
       "      <td>0.0</td>\n",
       "      <td>0.0</td>\n",
       "      <td>0.0</td>\n",
       "      <td>0.0</td>\n",
       "    </tr>\n",
       "    <tr>\n",
       "      <th>2</th>\n",
       "      <td>ISIC_0024308</td>\n",
       "      <td>0.0</td>\n",
       "      <td>1.0</td>\n",
       "      <td>0.0</td>\n",
       "      <td>0.0</td>\n",
       "      <td>0.0</td>\n",
       "      <td>0.0</td>\n",
       "      <td>0.0</td>\n",
       "    </tr>\n",
       "    <tr>\n",
       "      <th>3</th>\n",
       "      <td>ISIC_0024309</td>\n",
       "      <td>0.0</td>\n",
       "      <td>1.0</td>\n",
       "      <td>0.0</td>\n",
       "      <td>0.0</td>\n",
       "      <td>0.0</td>\n",
       "      <td>0.0</td>\n",
       "      <td>0.0</td>\n",
       "    </tr>\n",
       "    <tr>\n",
       "      <th>4</th>\n",
       "      <td>ISIC_0024310</td>\n",
       "      <td>1.0</td>\n",
       "      <td>0.0</td>\n",
       "      <td>0.0</td>\n",
       "      <td>0.0</td>\n",
       "      <td>0.0</td>\n",
       "      <td>0.0</td>\n",
       "      <td>0.0</td>\n",
       "    </tr>\n",
       "    <tr>\n",
       "      <th>...</th>\n",
       "      <td>...</td>\n",
       "      <td>...</td>\n",
       "      <td>...</td>\n",
       "      <td>...</td>\n",
       "      <td>...</td>\n",
       "      <td>...</td>\n",
       "      <td>...</td>\n",
       "      <td>...</td>\n",
       "    </tr>\n",
       "    <tr>\n",
       "      <th>10010</th>\n",
       "      <td>ISIC_0034316</td>\n",
       "      <td>1.0</td>\n",
       "      <td>0.0</td>\n",
       "      <td>0.0</td>\n",
       "      <td>0.0</td>\n",
       "      <td>0.0</td>\n",
       "      <td>0.0</td>\n",
       "      <td>0.0</td>\n",
       "    </tr>\n",
       "    <tr>\n",
       "      <th>10011</th>\n",
       "      <td>ISIC_0034317</td>\n",
       "      <td>1.0</td>\n",
       "      <td>0.0</td>\n",
       "      <td>0.0</td>\n",
       "      <td>0.0</td>\n",
       "      <td>0.0</td>\n",
       "      <td>0.0</td>\n",
       "      <td>0.0</td>\n",
       "    </tr>\n",
       "    <tr>\n",
       "      <th>10012</th>\n",
       "      <td>ISIC_0034318</td>\n",
       "      <td>0.0</td>\n",
       "      <td>0.0</td>\n",
       "      <td>0.0</td>\n",
       "      <td>0.0</td>\n",
       "      <td>1.0</td>\n",
       "      <td>0.0</td>\n",
       "      <td>0.0</td>\n",
       "    </tr>\n",
       "    <tr>\n",
       "      <th>10013</th>\n",
       "      <td>ISIC_0034319</td>\n",
       "      <td>0.0</td>\n",
       "      <td>1.0</td>\n",
       "      <td>0.0</td>\n",
       "      <td>0.0</td>\n",
       "      <td>0.0</td>\n",
       "      <td>0.0</td>\n",
       "      <td>0.0</td>\n",
       "    </tr>\n",
       "    <tr>\n",
       "      <th>10014</th>\n",
       "      <td>ISIC_0034320</td>\n",
       "      <td>0.0</td>\n",
       "      <td>1.0</td>\n",
       "      <td>0.0</td>\n",
       "      <td>0.0</td>\n",
       "      <td>0.0</td>\n",
       "      <td>0.0</td>\n",
       "      <td>0.0</td>\n",
       "    </tr>\n",
       "  </tbody>\n",
       "</table>\n",
       "<p>10015 rows × 8 columns</p>\n",
       "</div>"
      ],
      "text/plain": [
       "              image  MEL   NV  BCC  AKIEC  BKL   DF  VASC\n",
       "0      ISIC_0024306  0.0  1.0  0.0    0.0  0.0  0.0   0.0\n",
       "1      ISIC_0024307  0.0  1.0  0.0    0.0  0.0  0.0   0.0\n",
       "2      ISIC_0024308  0.0  1.0  0.0    0.0  0.0  0.0   0.0\n",
       "3      ISIC_0024309  0.0  1.0  0.0    0.0  0.0  0.0   0.0\n",
       "4      ISIC_0024310  1.0  0.0  0.0    0.0  0.0  0.0   0.0\n",
       "...             ...  ...  ...  ...    ...  ...  ...   ...\n",
       "10010  ISIC_0034316  1.0  0.0  0.0    0.0  0.0  0.0   0.0\n",
       "10011  ISIC_0034317  1.0  0.0  0.0    0.0  0.0  0.0   0.0\n",
       "10012  ISIC_0034318  0.0  0.0  0.0    0.0  1.0  0.0   0.0\n",
       "10013  ISIC_0034319  0.0  1.0  0.0    0.0  0.0  0.0   0.0\n",
       "10014  ISIC_0034320  0.0  1.0  0.0    0.0  0.0  0.0   0.0\n",
       "\n",
       "[10015 rows x 8 columns]"
      ]
     },
     "execution_count": 5,
     "metadata": {},
     "output_type": "execute_result"
    }
   ],
   "source": [
    "df"
   ]
  },
  {
   "cell_type": "code",
   "execution_count": 6,
   "metadata": {
    "colab": {
     "base_uri": "https://localhost:8080/"
    },
    "executionInfo": {
     "elapsed": 13,
     "status": "ok",
     "timestamp": 1649578176665,
     "user": {
      "displayName": "Livia Popper",
      "userId": "01657827037894532095"
     },
     "user_tz": -120
    },
    "id": "o4CWqLChUjLo",
    "outputId": "be6f0b4a-e47a-499d-c066-f2d560effa51"
   },
   "outputs": [
    {
     "data": {
      "text/plain": [
       "Index(['image', 'MEL', 'NV', 'BCC', 'AKIEC', 'BKL', 'DF', 'VASC'], dtype='object')"
      ]
     },
     "execution_count": 6,
     "metadata": {},
     "output_type": "execute_result"
    }
   ],
   "source": [
    "df.columns"
   ]
  },
  {
   "cell_type": "code",
   "execution_count": 7,
   "metadata": {
    "colab": {
     "base_uri": "https://localhost:8080/"
    },
    "executionInfo": {
     "elapsed": 703,
     "status": "ok",
     "timestamp": 1649578177362,
     "user": {
      "displayName": "Livia Popper",
      "userId": "01657827037894532095"
     },
     "user_tz": -120
    },
    "id": "4bVHrwPNUxva",
    "outputId": "c5923d50-02cd-4c77-806d-3865dc2ac8f0"
   },
   "outputs": [],
   "source": [
    "list_mel = []\n",
    "\n",
    "for i in range(len(df)):\n",
    "    if df.iloc[i]['MEL'] == 1:\n",
    "        list_mel.append(df.iloc[i]['image'])\n",
    "\n",
    "list_mel = list_mel[:300]"
   ]
  },
  {
   "cell_type": "code",
   "execution_count": 8,
   "metadata": {
    "id": "h3150_BaU2-Y"
   },
   "outputs": [],
   "source": [
    "list_nv = []\n",
    "\n",
    "for i in range(len(df)):\n",
    "    if df.iloc[i]['NV'] == 1:\n",
    "        list_nv.append(df.iloc[i]['image'])\n",
    "\n",
    "list_nv = list_nv[:300]"
   ]
  },
  {
   "cell_type": "code",
   "execution_count": 9,
   "metadata": {
    "id": "QySh5NFmVLjG"
   },
   "outputs": [],
   "source": [
    "list_bcc = []\n",
    "\n",
    "for i in range(len(df)):\n",
    "    if df.iloc[i]['BCC'] == 1:\n",
    "        list_bcc.append(df.iloc[i]['image'])\n",
    "\n",
    "list_bcc = list_bcc[:300]"
   ]
  },
  {
   "cell_type": "code",
   "execution_count": 10,
   "metadata": {
    "id": "0qfte3yuVOif"
   },
   "outputs": [],
   "source": [
    "list_akiec = []\n",
    "\n",
    "for i in range(len(df)):\n",
    "    if df.iloc[i]['AKIEC'] == 1:\n",
    "        list_akiec.append(df.iloc[i]['image'])\n",
    "\n",
    "list_akiec = list_akiec[:300]"
   ]
  },
  {
   "cell_type": "code",
   "execution_count": 11,
   "metadata": {
    "id": "OB8errqgVRwQ"
   },
   "outputs": [],
   "source": [
    "list_bkl = []\n",
    "\n",
    "for i in range(len(df)):\n",
    "    if df.iloc[i]['BKL'] == 1:\n",
    "        list_bkl.append(df.iloc[i]['image'])\n",
    "\n",
    "list_bkl = list_bkl[:300]"
   ]
  },
  {
   "cell_type": "code",
   "execution_count": 12,
   "metadata": {
    "id": "KBFw1dNGVUcL"
   },
   "outputs": [],
   "source": [
    "list_df = []\n",
    "\n",
    "for i in range(len(df)):\n",
    "    if df.iloc[i]['DF'] == 1:\n",
    "        list_df.append(df.iloc[i]['image'])\n",
    "\n",
    "# list_df"
   ]
  },
  {
   "cell_type": "code",
   "execution_count": 13,
   "metadata": {
    "id": "JjSTJu4OVXHo"
   },
   "outputs": [],
   "source": [
    "list_vasc = []\n",
    "\n",
    "for i in range(len(df)):\n",
    "    if df.iloc[i]['VASC'] == 1:\n",
    "        list_vasc.append(df.iloc[i]['image'])\n",
    "\n",
    "# list_vasc"
   ]
  },
  {
   "cell_type": "code",
   "execution_count": 14,
   "metadata": {
    "id": "SiKC6RUzVb3l"
   },
   "outputs": [],
   "source": [
    "list_all_chosen_images = list_mel[:]\n",
    "list_all_chosen_images.extend(list_nv)\n",
    "list_all_chosen_images.extend(list_bcc)\n",
    "list_all_chosen_images.extend(list_akiec)\n",
    "list_all_chosen_images.extend(list_bkl)\n",
    "list_all_chosen_images.extend(list_df)\n",
    "list_all_chosen_images.extend(list_vasc)"
   ]
  },
  {
   "cell_type": "code",
   "execution_count": 15,
   "metadata": {
    "colab": {
     "base_uri": "https://localhost:8080/"
    },
    "executionInfo": {
     "elapsed": 17,
     "status": "ok",
     "timestamp": 1649578189544,
     "user": {
      "displayName": "Livia Popper",
      "userId": "01657827037894532095"
     },
     "user_tz": -120
    },
    "id": "PIndaidEVdk0",
    "outputId": "ee19c138-3f8c-4487-9b4d-ee1ae7183418"
   },
   "outputs": [
    {
     "data": {
      "text/plain": [
       "1757"
      ]
     },
     "execution_count": 15,
     "metadata": {},
     "output_type": "execute_result"
    }
   ],
   "source": [
    "len(list_all_chosen_images)"
   ]
  },
  {
   "cell_type": "code",
   "execution_count": 16,
   "metadata": {
    "colab": {
     "base_uri": "https://localhost:8080/",
     "height": 419
    },
    "executionInfo": {
     "elapsed": 15,
     "status": "ok",
     "timestamp": 1649578189544,
     "user": {
      "displayName": "Livia Popper",
      "userId": "01657827037894532095"
     },
     "user_tz": -120
    },
    "id": "PjQtC9sRVgEL",
    "outputId": "a792ea21-55ba-4c95-e7ee-45825821922d"
   },
   "outputs": [
    {
     "data": {
      "text/html": [
       "<div>\n",
       "<style scoped>\n",
       "    .dataframe tbody tr th:only-of-type {\n",
       "        vertical-align: middle;\n",
       "    }\n",
       "\n",
       "    .dataframe tbody tr th {\n",
       "        vertical-align: top;\n",
       "    }\n",
       "\n",
       "    .dataframe thead th {\n",
       "        text-align: right;\n",
       "    }\n",
       "</style>\n",
       "<table border=\"1\" class=\"dataframe\">\n",
       "  <thead>\n",
       "    <tr style=\"text-align: right;\">\n",
       "      <th></th>\n",
       "      <th>image</th>\n",
       "    </tr>\n",
       "  </thead>\n",
       "  <tbody>\n",
       "    <tr>\n",
       "      <th>0</th>\n",
       "      <td>ISIC_0024310</td>\n",
       "    </tr>\n",
       "    <tr>\n",
       "      <th>1</th>\n",
       "      <td>ISIC_0024313</td>\n",
       "    </tr>\n",
       "    <tr>\n",
       "      <th>2</th>\n",
       "      <td>ISIC_0024315</td>\n",
       "    </tr>\n",
       "    <tr>\n",
       "      <th>3</th>\n",
       "      <td>ISIC_0024323</td>\n",
       "    </tr>\n",
       "    <tr>\n",
       "      <th>4</th>\n",
       "      <td>ISIC_0024333</td>\n",
       "    </tr>\n",
       "    <tr>\n",
       "      <th>...</th>\n",
       "      <td>...</td>\n",
       "    </tr>\n",
       "    <tr>\n",
       "      <th>1752</th>\n",
       "      <td>ISIC_0033844</td>\n",
       "    </tr>\n",
       "    <tr>\n",
       "      <th>1753</th>\n",
       "      <td>ISIC_0033969</td>\n",
       "    </tr>\n",
       "    <tr>\n",
       "      <th>1754</th>\n",
       "      <td>ISIC_0033991</td>\n",
       "    </tr>\n",
       "    <tr>\n",
       "      <th>1755</th>\n",
       "      <td>ISIC_0034196</td>\n",
       "    </tr>\n",
       "    <tr>\n",
       "      <th>1756</th>\n",
       "      <td>ISIC_0034214</td>\n",
       "    </tr>\n",
       "  </tbody>\n",
       "</table>\n",
       "<p>1757 rows × 1 columns</p>\n",
       "</div>"
      ],
      "text/plain": [
       "             image\n",
       "0     ISIC_0024310\n",
       "1     ISIC_0024313\n",
       "2     ISIC_0024315\n",
       "3     ISIC_0024323\n",
       "4     ISIC_0024333\n",
       "...            ...\n",
       "1752  ISIC_0033844\n",
       "1753  ISIC_0033969\n",
       "1754  ISIC_0033991\n",
       "1755  ISIC_0034196\n",
       "1756  ISIC_0034214\n",
       "\n",
       "[1757 rows x 1 columns]"
      ]
     },
     "execution_count": 16,
     "metadata": {},
     "output_type": "execute_result"
    }
   ],
   "source": [
    "balanced_df = pd.DataFrame(list_all_chosen_images, columns = ['image'])\n",
    "balanced_df"
   ]
  },
  {
   "cell_type": "code",
   "execution_count": 17,
   "metadata": {
    "id": "3Akk4GDPVkxd"
   },
   "outputs": [],
   "source": [
    "# balanced_df.to_csv('balanced_df.csv', index=False)"
   ]
  },
  {
   "cell_type": "code",
   "execution_count": 18,
   "metadata": {
    "colab": {
     "base_uri": "https://localhost:8080/",
     "height": 419
    },
    "executionInfo": {
     "elapsed": 14,
     "status": "ok",
     "timestamp": 1649578189545,
     "user": {
      "displayName": "Livia Popper",
      "userId": "01657827037894532095"
     },
     "user_tz": -120
    },
    "id": "0Q8J-rrRVnqh",
    "outputId": "c733f85f-c5c0-43fd-f34e-caa52c981a9f"
   },
   "outputs": [
    {
     "data": {
      "text/html": [
       "<div>\n",
       "<style scoped>\n",
       "    .dataframe tbody tr th:only-of-type {\n",
       "        vertical-align: middle;\n",
       "    }\n",
       "\n",
       "    .dataframe tbody tr th {\n",
       "        vertical-align: top;\n",
       "    }\n",
       "\n",
       "    .dataframe thead th {\n",
       "        text-align: right;\n",
       "    }\n",
       "</style>\n",
       "<table border=\"1\" class=\"dataframe\">\n",
       "  <thead>\n",
       "    <tr style=\"text-align: right;\">\n",
       "      <th></th>\n",
       "      <th>image</th>\n",
       "      <th>MEL</th>\n",
       "      <th>NV</th>\n",
       "      <th>BCC</th>\n",
       "      <th>AKIEC</th>\n",
       "      <th>BKL</th>\n",
       "      <th>DF</th>\n",
       "      <th>VASC</th>\n",
       "    </tr>\n",
       "  </thead>\n",
       "  <tbody>\n",
       "    <tr>\n",
       "      <th>0</th>\n",
       "      <td>ISIC_0024310</td>\n",
       "      <td>1</td>\n",
       "      <td>0</td>\n",
       "      <td>0</td>\n",
       "      <td>0</td>\n",
       "      <td>0</td>\n",
       "      <td>0</td>\n",
       "      <td>0</td>\n",
       "    </tr>\n",
       "    <tr>\n",
       "      <th>1</th>\n",
       "      <td>ISIC_0024313</td>\n",
       "      <td>1</td>\n",
       "      <td>0</td>\n",
       "      <td>0</td>\n",
       "      <td>0</td>\n",
       "      <td>0</td>\n",
       "      <td>0</td>\n",
       "      <td>0</td>\n",
       "    </tr>\n",
       "    <tr>\n",
       "      <th>2</th>\n",
       "      <td>ISIC_0024315</td>\n",
       "      <td>1</td>\n",
       "      <td>0</td>\n",
       "      <td>0</td>\n",
       "      <td>0</td>\n",
       "      <td>0</td>\n",
       "      <td>0</td>\n",
       "      <td>0</td>\n",
       "    </tr>\n",
       "    <tr>\n",
       "      <th>3</th>\n",
       "      <td>ISIC_0024323</td>\n",
       "      <td>1</td>\n",
       "      <td>0</td>\n",
       "      <td>0</td>\n",
       "      <td>0</td>\n",
       "      <td>0</td>\n",
       "      <td>0</td>\n",
       "      <td>0</td>\n",
       "    </tr>\n",
       "    <tr>\n",
       "      <th>4</th>\n",
       "      <td>ISIC_0024333</td>\n",
       "      <td>1</td>\n",
       "      <td>0</td>\n",
       "      <td>0</td>\n",
       "      <td>0</td>\n",
       "      <td>0</td>\n",
       "      <td>0</td>\n",
       "      <td>0</td>\n",
       "    </tr>\n",
       "    <tr>\n",
       "      <th>...</th>\n",
       "      <td>...</td>\n",
       "      <td>...</td>\n",
       "      <td>...</td>\n",
       "      <td>...</td>\n",
       "      <td>...</td>\n",
       "      <td>...</td>\n",
       "      <td>...</td>\n",
       "      <td>...</td>\n",
       "    </tr>\n",
       "    <tr>\n",
       "      <th>1752</th>\n",
       "      <td>ISIC_0033844</td>\n",
       "      <td>0</td>\n",
       "      <td>0</td>\n",
       "      <td>0</td>\n",
       "      <td>0</td>\n",
       "      <td>0</td>\n",
       "      <td>0</td>\n",
       "      <td>1</td>\n",
       "    </tr>\n",
       "    <tr>\n",
       "      <th>1753</th>\n",
       "      <td>ISIC_0033969</td>\n",
       "      <td>0</td>\n",
       "      <td>0</td>\n",
       "      <td>0</td>\n",
       "      <td>0</td>\n",
       "      <td>0</td>\n",
       "      <td>0</td>\n",
       "      <td>1</td>\n",
       "    </tr>\n",
       "    <tr>\n",
       "      <th>1754</th>\n",
       "      <td>ISIC_0033991</td>\n",
       "      <td>0</td>\n",
       "      <td>0</td>\n",
       "      <td>0</td>\n",
       "      <td>0</td>\n",
       "      <td>0</td>\n",
       "      <td>0</td>\n",
       "      <td>1</td>\n",
       "    </tr>\n",
       "    <tr>\n",
       "      <th>1755</th>\n",
       "      <td>ISIC_0034196</td>\n",
       "      <td>0</td>\n",
       "      <td>0</td>\n",
       "      <td>0</td>\n",
       "      <td>0</td>\n",
       "      <td>0</td>\n",
       "      <td>0</td>\n",
       "      <td>1</td>\n",
       "    </tr>\n",
       "    <tr>\n",
       "      <th>1756</th>\n",
       "      <td>ISIC_0034214</td>\n",
       "      <td>0</td>\n",
       "      <td>0</td>\n",
       "      <td>0</td>\n",
       "      <td>0</td>\n",
       "      <td>0</td>\n",
       "      <td>0</td>\n",
       "      <td>1</td>\n",
       "    </tr>\n",
       "  </tbody>\n",
       "</table>\n",
       "<p>1757 rows × 8 columns</p>\n",
       "</div>"
      ],
      "text/plain": [
       "             image  MEL  NV  BCC  AKIEC  BKL  DF  VASC\n",
       "0     ISIC_0024310    1   0    0      0    0   0     0\n",
       "1     ISIC_0024313    1   0    0      0    0   0     0\n",
       "2     ISIC_0024315    1   0    0      0    0   0     0\n",
       "3     ISIC_0024323    1   0    0      0    0   0     0\n",
       "4     ISIC_0024333    1   0    0      0    0   0     0\n",
       "...            ...  ...  ..  ...    ...  ...  ..   ...\n",
       "1752  ISIC_0033844    0   0    0      0    0   0     1\n",
       "1753  ISIC_0033969    0   0    0      0    0   0     1\n",
       "1754  ISIC_0033991    0   0    0      0    0   0     1\n",
       "1755  ISIC_0034196    0   0    0      0    0   0     1\n",
       "1756  ISIC_0034214    0   0    0      0    0   0     1\n",
       "\n",
       "[1757 rows x 8 columns]"
      ]
     },
     "execution_count": 18,
     "metadata": {},
     "output_type": "execute_result"
    }
   ],
   "source": [
    "imported_csv = pd.read_csv('https://raw.githubusercontent.com/liviapopper/skin-cancer-types-data/main/balanced_df.csv')\n",
    "imported_csv"
   ]
  },
  {
   "cell_type": "code",
   "execution_count": 19,
   "metadata": {
    "colab": {
     "base_uri": "https://localhost:8080/"
    },
    "id": "yZ568q40V2tT",
    "outputId": "d16f5709-4873-4498-cde4-e501bf950d6f"
   },
   "outputs": [
    {
     "name": "stderr",
     "output_type": "stream",
     "text": [
      "100%|███████████████████████████████████████| 1757/1757 [09:42<00:00,  3.01it/s]\n"
     ]
    }
   ],
   "source": [
    "train_image = []\n",
    "\n",
    "for i in tqdm(range(imported_csv.shape[0])):\n",
    "    img = Image.open(io.BytesIO((requests.get(images_url+imported_csv['image'][i]+'.jpg', stream=True)).content))\n",
    "    img = image.img_to_array(img)\n",
    "    img = img/255\n",
    "    train_image.append(img)\n",
    "X = np.array(train_image)"
   ]
  },
  {
   "cell_type": "code",
   "execution_count": 20,
   "metadata": {
    "colab": {
     "base_uri": "https://localhost:8080/",
     "height": 166
    },
    "executionInfo": {
     "elapsed": 11,
     "status": "error",
     "timestamp": 1650302665547,
     "user": {
      "displayName": "Aizhan Shagadatova",
      "userId": "05596377798215181831"
     },
     "user_tz": -120
    },
    "id": "4NXn-1jNYpIW",
    "outputId": "438bcaa0-6a36-4db9-b2a3-7e4925052aea"
   },
   "outputs": [
    {
     "data": {
      "text/plain": [
       "(1757, 450, 600, 3)"
      ]
     },
     "execution_count": 20,
     "metadata": {},
     "output_type": "execute_result"
    }
   ],
   "source": [
    "X.shape"
   ]
  },
  {
   "cell_type": "code",
   "execution_count": 21,
   "metadata": {
    "id": "h9_ovYeDZMZy"
   },
   "outputs": [
    {
     "data": {
      "text/plain": [
       "<matplotlib.image.AxesImage at 0x7fd6c7fa0280>"
      ]
     },
     "execution_count": 21,
     "metadata": {},
     "output_type": "execute_result"
    },
    {
     "data": {
      "image/png": "[encoded data removed]",
      "text/plain": [
       "<Figure size 432x288 with 1 Axes>"
      ]
     },
     "metadata": {
      "needs_background": "light"
     },
     "output_type": "display_data"
    }
   ],
   "source": [
    "plt.imshow(X[1000])"
   ]
  },
  {
   "cell_type": "code",
   "execution_count": 22,
   "metadata": {
    "id": "3V72OKrUZOgT"
   },
   "outputs": [
    {
     "data": {
      "text/plain": [
       "(1757, 7)"
      ]
     },
     "execution_count": 22,
     "metadata": {},
     "output_type": "execute_result"
    }
   ],
   "source": [
    "y = np.array(imported_csv.drop(['image'],axis=1))\n",
    "y.shape"
   ]
  },
  {
   "cell_type": "code",
   "execution_count": 23,
   "metadata": {
    "id": "CdlahtkaZR1v"
   },
   "outputs": [],
   "source": [
    "X_train, X_test, y_train, y_test = train_test_split(X, y, random_state=26, test_size=0.1)"
   ]
  },
  {
   "cell_type": "code",
   "execution_count": 24,
   "metadata": {
    "id": "R-RZbEq9ZVRl"
   },
   "outputs": [
    {
     "name": "stderr",
     "output_type": "stream",
     "text": [
      "2022-04-30 22:55:45.556507: I tensorflow/core/platform/cpu_feature_guard.cc:151] This TensorFlow binary is optimized with oneAPI Deep Neural Network Library (oneDNN) to use the following CPU instructions in performance-critical operations:  AVX2 FMA\n",
      "To enable them in other operations, rebuild TensorFlow with the appropriate compiler flags.\n"
     ]
    }
   ],
   "source": [
    "model = Sequential()\n",
    "model.add(Conv2D(filters=16, kernel_size=(3, 3), activation=\"relu\", input_shape=(450,600,3)))\n",
    "model.add(MaxPooling2D(pool_size=(2, 2)))\n",
    "\n",
    "model.add(Conv2D(filters=32, kernel_size=(3, 3), activation='relu'))\n",
    "model.add(MaxPooling2D(pool_size=(2, 2)))\n",
    "model.add(Dropout(0.2))\n",
    "model.add(Conv2D(filters=64, kernel_size=(3, 3), activation=\"relu\"))\n",
    "model.add(MaxPooling2D(pool_size=(2, 2)))\n",
    "model.add(Dropout(0.2))\n",
    "model.add(Conv2D(filters=128, kernel_size=(3, 3), activation='relu'))\n",
    "model.add(MaxPooling2D(pool_size=(2, 2)))\n",
    "\n",
    "model.add(Conv2D(filters=128, kernel_size=(3, 3), activation='relu'))\n",
    "model.add(MaxPooling2D(pool_size=(2, 2)))\n",
    "\n",
    "model.add(Flatten())\n",
    "model.add(Dense(128, activation='relu'))\n",
    "# model.add(Dropout(0.2))\n",
    "model.add(Dense(64, activation='relu'))\n",
    "\n",
    "model.add(Dense(7, activation='softmax'))"
   ]
  },
  {
   "cell_type": "code",
   "execution_count": 25,
   "metadata": {
    "colab": {
     "base_uri": "https://localhost:8080/",
     "height": 166
    },
    "executionInfo": {
     "elapsed": 268,
     "status": "error",
     "timestamp": 1650802874988,
     "user": {
      "displayName": "Aizhan Shagadatova",
      "userId": "05596377798215181831"
     },
     "user_tz": -120
    },
    "id": "V5c_OIRZbH2N",
    "outputId": "8637dc25-c3a0-4dae-a070-72af60362335"
   },
   "outputs": [
    {
     "name": "stdout",
     "output_type": "stream",
     "text": [
      "Model: \"sequential\"\n",
      "_________________________________________________________________\n",
      " Layer (type)                Output Shape              Param #   \n",
      "=================================================================\n",
      " conv2d (Conv2D)             (None, 448, 598, 16)      448       \n",
      "                                                                 \n",
      " max_pooling2d (MaxPooling2D  (None, 224, 299, 16)     0         \n",
      " )                                                               \n",
      "                                                                 \n",
      " conv2d_1 (Conv2D)           (None, 222, 297, 32)      4640      \n",
      "                                                                 \n",
      " max_pooling2d_1 (MaxPooling  (None, 111, 148, 32)     0         \n",
      " 2D)                                                             \n",
      "                                                                 \n",
      " dropout (Dropout)           (None, 111, 148, 32)      0         \n",
      "                                                                 \n",
      " conv2d_2 (Conv2D)           (None, 109, 146, 64)      18496     \n",
      "                                                                 \n",
      " max_pooling2d_2 (MaxPooling  (None, 54, 73, 64)       0         \n",
      " 2D)                                                             \n",
      "                                                                 \n",
      " dropout_1 (Dropout)         (None, 54, 73, 64)        0         \n",
      "                                                                 \n",
      " conv2d_3 (Conv2D)           (None, 52, 71, 128)       73856     \n",
      "                                                                 \n",
      " max_pooling2d_3 (MaxPooling  (None, 26, 35, 128)      0         \n",
      " 2D)                                                             \n",
      "                                                                 \n",
      " conv2d_4 (Conv2D)           (None, 24, 33, 128)       147584    \n",
      "                                                                 \n",
      " max_pooling2d_4 (MaxPooling  (None, 12, 16, 128)      0         \n",
      " 2D)                                                             \n",
      "                                                                 \n",
      " flatten (Flatten)           (None, 24576)             0         \n",
      "                                                                 \n",
      " dense (Dense)               (None, 128)               3145856   \n",
      "                                                                 \n",
      " dense_1 (Dense)             (None, 64)                8256      \n",
      "                                                                 \n",
      " dense_2 (Dense)             (None, 7)                 455       \n",
      "                                                                 \n",
      "=================================================================\n",
      "Total params: 3,399,591\n",
      "Trainable params: 3,399,591\n",
      "Non-trainable params: 0\n",
      "_________________________________________________________________\n"
     ]
    }
   ],
   "source": [
    "model.summary()"
   ]
  },
  {
   "cell_type": "code",
   "execution_count": 26,
   "metadata": {
    "id": "u0r0jD0zbMKq"
   },
   "outputs": [],
   "source": [
    "model.compile(optimizer='adam', loss='categorical_crossentropy', metrics=['accuracy'])"
   ]
  },
  {
   "cell_type": "code",
   "execution_count": 28,
   "metadata": {
    "id": "Xx0xLysbbO8D"
   },
   "outputs": [
    {
     "name": "stdout",
     "output_type": "stream",
     "text": [
      "Epoch 1/15\n",
      "53/53 [==============================] - 117s 2s/step - loss: 1.8454 - accuracy: 0.2302 - val_loss: 1.7256 - val_accuracy: 0.2045\n",
      "Epoch 2/15\n",
      "53/53 [==============================] - 120s 2s/step - loss: 1.7139 - accuracy: 0.3055 - val_loss: 1.6735 - val_accuracy: 0.3182\n",
      "Epoch 3/15\n",
      "53/53 [==============================] - 113s 2s/step - loss: 1.6410 - accuracy: 0.3238 - val_loss: 1.6941 - val_accuracy: 0.3523\n",
      "Epoch 4/15\n",
      "53/53 [==============================] - 116s 2s/step - loss: 1.5897 - accuracy: 0.3599 - val_loss: 1.6220 - val_accuracy: 0.3409\n",
      "Epoch 5/15\n",
      "53/53 [==============================] - 115s 2s/step - loss: 1.4983 - accuracy: 0.3953 - val_loss: 1.7463 - val_accuracy: 0.3523\n",
      "Epoch 6/15\n",
      "53/53 [==============================] - 117s 2s/step - loss: 1.4249 - accuracy: 0.4320 - val_loss: 1.5782 - val_accuracy: 0.3807\n",
      "Epoch 7/15\n",
      "53/53 [==============================] - 110s 2s/step - loss: 1.3422 - accuracy: 0.4744 - val_loss: 1.7683 - val_accuracy: 0.3750\n",
      "Epoch 8/15\n",
      "53/53 [==============================] - 115s 2s/step - loss: 1.2055 - accuracy: 0.5199 - val_loss: 1.6587 - val_accuracy: 0.3295\n",
      "Epoch 9/15\n",
      "53/53 [==============================] - 114s 2s/step - loss: 1.0507 - accuracy: 0.5977 - val_loss: 1.5865 - val_accuracy: 0.3977\n",
      "Epoch 10/15\n",
      "53/53 [==============================] - 115s 2s/step - loss: 0.8452 - accuracy: 0.6787 - val_loss: 1.8233 - val_accuracy: 0.4148\n",
      "Epoch 11/15\n",
      "53/53 [==============================] - 115s 2s/step - loss: 0.7640 - accuracy: 0.7249 - val_loss: 1.9557 - val_accuracy: 0.3920\n",
      "Epoch 12/15\n",
      "53/53 [==============================] - 116s 2s/step - loss: 0.8143 - accuracy: 0.7090 - val_loss: 2.5955 - val_accuracy: 0.3523\n",
      "Epoch 13/15\n",
      "53/53 [==============================] - 118s 2s/step - loss: 0.6168 - accuracy: 0.7685 - val_loss: 2.4214 - val_accuracy: 0.4091\n",
      "Epoch 14/15\n",
      "53/53 [==============================] - 120s 2s/step - loss: 0.4825 - accuracy: 0.8223 - val_loss: 2.8162 - val_accuracy: 0.3352\n",
      "Epoch 15/15\n",
      "53/53 [==============================] - 120s 2s/step - loss: 0.4357 - accuracy: 0.8425 - val_loss: 3.4205 - val_accuracy: 0.3920\n"
     ]
    }
   ],
   "source": [
    "history = model.fit(X_train, y_train, epochs=15, validation_data=(X_test, y_test), batch_size=30)"
   ]
  },
  {
   "cell_type": "code",
   "execution_count": 29,
   "metadata": {
    "id": "Cn58V7_fbSFO"
   },
   "outputs": [
    {
     "data": {
      "image/png": "[encoded data removed]",
      "text/plain": [
       "<Figure size 1080x648 with 1 Axes>"
      ]
     },
     "metadata": {
      "needs_background": "light"
     },
     "output_type": "display_data"
    }
   ],
   "source": [
    "# summarize history for accuracy\n",
    "fig = plt.figure(figsize = (15,9))\n",
    "plt.plot(history.history['accuracy'])\n",
    "plt.plot(history.history['val_accuracy'])\n",
    "plt.title('Model accuracy', fontsize=25)\n",
    "plt.ylabel('accuracy', fontsize=18)\n",
    "plt.xlabel('epoch', fontsize=18)\n",
    "plt.legend(['train', 'test'], loc='upper left', fontsize=15)\n",
    "plt.grid(False)\n",
    "plt.show()\n",
    "# plt.savefig('model_acc_unbalanced.png', transparent=True)"
   ]
  },
  {
   "cell_type": "code",
   "execution_count": 30,
   "metadata": {
    "id": "GLsnDVLYbVWB"
   },
   "outputs": [
    {
     "data": {
      "image/png": "[encoded data removed]",
      "text/plain": [
       "<Figure size 1080x648 with 1 Axes>"
      ]
     },
     "metadata": {
      "needs_background": "light"
     },
     "output_type": "display_data"
    }
   ],
   "source": [
    "# summarize history for loss\n",
    "fig = plt.figure(figsize = (15,9))\n",
    "plt.plot(history.history['loss'])\n",
    "plt.plot(history.history['val_loss'])\n",
    "plt.title('Model loss', fontsize=25)\n",
    "plt.ylabel('loss', fontsize=18)\n",
    "plt.xlabel('epoch', fontsize=18)\n",
    "plt.legend(['train', 'test'], loc='upper left', fontsize=15)\n",
    "plt.grid(False)\n",
    "plt.show()\n",
    "# plt.savefig('model_loss_unbalanced.png', transparent=True)"
   ]
  },
  {
   "cell_type": "code",
   "execution_count": 31,
   "metadata": {
    "id": "1nS3JrfHbaTD"
   },
   "outputs": [
    {
     "data": {
      "text/plain": [
       "array([[7.37990737e-02, 1.07851614e-04, 5.08783519e-01, ...,\n",
       "        9.99617041e-04, 3.66498280e-05, 5.29349808e-09],\n",
       "       [1.20090402e-03, 2.83179921e-04, 2.23244824e-05, ...,\n",
       "        9.10135984e-01, 4.75863744e-05, 1.80804205e-10],\n",
       "       [4.25513880e-03, 2.71281903e-03, 6.94543645e-02, ...,\n",
       "        2.67805666e-01, 2.11725742e-01, 1.96040142e-04],\n",
       "       ...,\n",
       "       [9.99617696e-01, 1.87790602e-06, 1.30797825e-05, ...,\n",
       "        7.57504779e-07, 2.89585467e-09, 4.10801636e-11],\n",
       "       [9.77762509e-03, 3.07572503e-02, 4.41965610e-01, ...,\n",
       "        3.50664437e-01, 5.07011525e-02, 2.03482136e-02],\n",
       "       [9.97754633e-01, 7.36739967e-05, 4.67949540e-05, ...,\n",
       "        2.03059823e-03, 7.82239204e-06, 2.84483126e-09]], dtype=float32)"
      ]
     },
     "execution_count": 31,
     "metadata": {},
     "output_type": "execute_result"
    }
   ],
   "source": [
    "y_pred = model.predict(X_test)\n",
    "y_pred"
   ]
  },
  {
   "cell_type": "code",
   "execution_count": 32,
   "metadata": {
    "id": "8cMdtQIGbgTb"
   },
   "outputs": [
    {
     "data": {
      "text/plain": [
       "array([[0, 0, 0, ..., 0, 0, 0],\n",
       "       [0, 0, 0, ..., 0, 0, 0],\n",
       "       [0, 0, 0, ..., 0, 1, 0],\n",
       "       ...,\n",
       "       [0, 0, 0, ..., 0, 0, 0],\n",
       "       [0, 0, 1, ..., 0, 0, 0],\n",
       "       [0, 0, 0, ..., 0, 0, 0]])"
      ]
     },
     "execution_count": 32,
     "metadata": {},
     "output_type": "execute_result"
    }
   ],
   "source": [
    "y_test"
   ]
  },
  {
   "cell_type": "code",
   "execution_count": 33,
   "metadata": {
    "id": "KgAgznc3bec6"
   },
   "outputs": [],
   "source": [
    "y_pred=np.argmax(y_pred, axis=1)\n",
    "y_test=np.argmax(y_test, axis=1)"
   ]
  },
  {
   "cell_type": "code",
   "execution_count": 34,
   "metadata": {
    "id": "lZ5OaK-Yblg0"
   },
   "outputs": [
    {
     "name": "stdout",
     "output_type": "stream",
     "text": [
      "[[15  6  1  0  6  0  1]\n",
      " [ 3 16  3  4  2  2  0]\n",
      " [ 5  2  6  5 10  7  0]\n",
      " [11  1  1 12 15  0  0]\n",
      " [ 5  1  0  2 13  0  0]\n",
      " [ 1  0  2  1  4  3  0]\n",
      " [ 0  1  2  0  3  0  4]]\n"
     ]
    }
   ],
   "source": [
    "confusion_matrix = confusion_matrix(y_test, y_pred)\n",
    "print(confusion_matrix)"
   ]
  },
  {
   "cell_type": "code",
   "execution_count": 35,
   "metadata": {
    "id": "A9FNH3sgbn5L"
   },
   "outputs": [
    {
     "data": {
      "image/png": "[encoded data removed]",
      "text/plain": [
       "<Figure size 1080x792 with 2 Axes>"
      ]
     },
     "metadata": {
      "needs_background": "light"
     },
     "output_type": "display_data"
    }
   ],
   "source": [
    "fig = plt.figure(figsize = (15,11))\n",
    "ax = sns.heatmap(confusion_matrix, annot=True, cmap='Blues')\n",
    "sns.set(font_scale=2.0)\n",
    "ax.set_title('Confusion Matrix \\n', fontsize=25)\n",
    "ax.set_xlabel('\\nPredicted Skin Cancer Category', fontsize=18)\n",
    "ax.set_ylabel('Actual Skin Cancer Category ', fontsize=18)\n",
    "ax.xaxis.tick_top()\n",
    "\n",
    "## Ticket labels - List must be in alphabetical order\n",
    "ax.xaxis.set_ticklabels(['MEL','NV', 'BCC', 'AKIEC','BKL', 'DF', 'VASC'])\n",
    "ax.yaxis.set_ticklabels(['MEL','NV', 'BCC', 'AKIEC','BKL', 'DF', 'VASC'])\n",
    "\n",
    "## Display the visualization of the Confusion Matrix.\n",
    "plt.show()"
   ]
  },
  {
   "cell_type": "code",
   "execution_count": 36,
   "metadata": {},
   "outputs": [
    {
     "name": "stdout",
     "output_type": "stream",
     "text": [
      "              precision    recall  f1-score   support\n",
      "\n",
      "         MEL       0.38      0.52      0.43        29\n",
      "          NV       0.59      0.53      0.56        30\n",
      "         BCC       0.40      0.17      0.24        35\n",
      "       AKIEC       0.50      0.30      0.37        40\n",
      "         BKL       0.25      0.62      0.35        21\n",
      "          DF       0.25      0.27      0.26        11\n",
      "        VASC       0.80      0.40      0.53        10\n",
      "\n",
      "    accuracy                           0.39       176\n",
      "   macro avg       0.45      0.40      0.39       176\n",
      "weighted avg       0.45      0.39      0.39       176\n",
      "\n"
     ]
    }
   ],
   "source": [
    "target_names = ['MEL','NV', 'BCC', 'AKIEC','BKL', 'DF', 'VASC']\n",
    "print(classification_report(y_test, y_pred, target_names=target_names))"
   ]
  }
 ],
 "metadata": {
  "colab": {
   "collapsed_sections": [],
   "name": "Skin cancer detection - Exploratory notebook.ipynb",
   "provenance": []
  },
  "kernelspec": {
   "display_name": "Python 3",
   "language": "python",
   "name": "python3"
  },
  "language_info": {
   "codemirror_mode": {
    "name": "ipython",
    "version": 3
   },
   "file_extension": ".py",
   "mimetype": "text/x-python",
   "name": "python",
   "nbconvert_exporter": "python",
   "pygments_lexer": "ipython3",
   "version": "3.8.12"
  }
 },
 "nbformat": 4,
 "nbformat_minor": 1
}
