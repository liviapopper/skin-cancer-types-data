{
 "cells": [
  {
   "cell_type": "markdown",
   "metadata": {},
   "source": [
    "<h2><center>Skin cancer detection by means of AI</center></h2>\n",
    "<h3><center>Data Augmentation</center></h3>\n",
    "\n",
    "<h4><center>Group 3: Livia Popper, Kyriakos Koukiadakis, Aizhan Shagadatova</center></h4>"
   ]
  },
  {
   "cell_type": "markdown",
   "metadata": {},
   "source": [
    "# Image Augmentation\n",
    "- Check images/sample-train \n",
    "- Check images/sample-confirm is empty\n"
   ]
  },
  {
   "cell_type": "code",
   "execution_count": 81,
   "metadata": {},
   "outputs": [],
   "source": [
    "import numpy as np"
   ]
  },
  {
   "cell_type": "code",
   "execution_count": 82,
   "metadata": {},
   "outputs": [],
   "source": [
    "from keras.preprocessing.image import ImageDataGenerator,array_to_img,img_to_array,load_img\n",
    "from keras.applications.inception_v3 import preprocess_input"
   ]
  },
  {
   "cell_type": "markdown",
   "metadata": {
    "collapsed": true
   },
   "source": [
    "**Check that sample-confirm is empty**"
   ]
  },
  {
   "cell_type": "code",
   "execution_count": 83,
   "metadata": {},
   "outputs": [],
   "source": [
    "train_datagen = ImageDataGenerator(\n",
    "    preprocessing_function=preprocess_input,\n",
    "    width_shift_range=0.2,\n",
    "    height_shift_range=0.2,\n",
    "    shear_range=0.2,\n",
    "    zoom_range=0.1,\n",
    "    horizontal_flip=True\n",
    ")\n",
    "\n",
    "test_datagen = ImageDataGenerator(\n",
    "    preprocessing_function=preprocess_input,\n",
    "    width_shift_range = 0.2,\n",
    "    height_shift_range = 0.2,\n",
    "    shear_range = 0.2,\n",
    "    zoom_range = 0.2,\n",
    "    horizontal_flip = True\n",
    ")\n",
    "\n",
    "#jf_datagen = ImageDataGenerator(\n",
    "  #  preprocessing_function=preprocess_input,\n",
    "   # horizontal_flip=True"
   ]
  },
  {
   "cell_type": "markdown",
   "metadata": {},
   "source": [
    "**Check on a sample to see the image generators work in the way we expect**"
   ]
  },
  {
   "cell_type": "code",
   "execution_count": 84,
   "metadata": {
    "scrolled": true
   },
   "outputs": [
    {
     "name": "stdout",
     "output_type": "stream",
     "text": [
      "Found 300 images belonging to 2 classes.\n",
      "Found 300 images belonging to 2 classes.\n",
      "Found 300 images belonging to 2 classes.\n",
      "Found 300 images belonging to 2 classes.\n"
     ]
    }
   ],
   "source": [
    "A_list = [\"nv\", \"mel\", \"bkl\", \"bcc\"]\n",
    "j=0\n",
    "while j<4 :\n",
    "    dir=A_list[j] + \"/\"\n",
    "    train_generator = train_datagen.flow_from_directory(directory=dir,target_size=(450,600), save_to_dir= dir)\n",
    "    j+=1"
   ]
  },
  {
   "cell_type": "code",
   "execution_count": 85,
   "metadata": {},
   "outputs": [
    {
     "name": "stdout",
     "output_type": "stream",
     "text": [
      "0\n",
      "Found 300 images belonging to 2 classes.\n",
      "1\n",
      "Found 300 images belonging to 2 classes.\n",
      "2\n",
      "Found 300 images belonging to 2 classes.\n",
      "3\n",
      "Found 300 images belonging to 2 classes.\n"
     ]
    }
   ],
   "source": [
    "A_list = [\"nv\", \"mel\", \"bkl\", \"bcc\"]\n",
    "\n",
    "j=0\n",
    "\n",
    "while j<4 :\n",
    "    print(j)\n",
    "    i=0\n",
    "    dir=A_list[j] + \"/\"\n",
    "    for batch in train_datagen.flow_from_directory(directory=dir,target_size=(450,600), save_to_dir= dir):\n",
    "        i+=1\n",
    "        if (i>25):\n",
    "            break\n",
    "    j+=1\n",
    "    y=0"
   ]
  }
 ],
 "metadata": {
  "anaconda-cloud": {},
  "kernelspec": {
   "display_name": "Python 3",
   "language": "python",
   "name": "python3"
  },
  "language_info": {
   "codemirror_mode": {
    "name": "ipython",
    "version": 3
   },
   "file_extension": ".py",
   "mimetype": "text/x-python",
   "name": "python",
   "nbconvert_exporter": "python",
   "pygments_lexer": "ipython3",
   "version": "3.8.12"
  }
 },
 "nbformat": 4,
 "nbformat_minor": 1
}
